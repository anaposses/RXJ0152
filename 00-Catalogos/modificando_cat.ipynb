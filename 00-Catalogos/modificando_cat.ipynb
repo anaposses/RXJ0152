{
 "cells": [
  {
   "cell_type": "code",
   "execution_count": 1,
   "metadata": {
    "collapsed": true
   },
   "outputs": [],
   "source": [
    "%matplotlib inline                           \n",
    "%config InlineBackend.figure_format='retina'       # Melhora a resolucao do plot\n",
    "from IPython.core.display import display, HTML\n",
    "import matplotlib.pylab as plt                     # Permite fazer plots utilizando o pacote matplotlib\n",
    "plt.rcParams['figure.figsize'] = (9.0, 9.0)      # Determina o tamanho do plot dentro do ipython notebook\n",
    "from astropy.io import fits\n",
    "import numpy as np \n",
    "import pandas as pd\n",
    "import math"
   ]
  },
  {
   "cell_type": "markdown",
   "metadata": {},
   "source": [
    "**Motivação**: Esse código foi criado apenas após meses de trabalho no projeto pois percebi a necessidade de preservar em apenas uma pasta todas as modificações realizadas no catálogo. Até então, eu havia adicionado, corrigido e manipulado os parâmetros em pastas diferentes. Isso gera uma confusão na hora de saber qual é o catálogo mais atual e uma mudança frequente de nomes para cada nova versão. Portanto compilei todas as modificações em um único notebook, gerando ao final de cada rodada apenas um arquivo de texto com nome único."
   ]
  },
  {
   "cell_type": "markdown",
   "metadata": {},
   "source": [
    "**Modificações realizadas anteriormente:** Listo brevemente as modificações realizadas até então. \n",
    "\n",
    "* Adição dos quatro catálogos disponíveis: Blakeslee, Demarco, Patel e Tanaka.\n",
    "* Realizado uma união de todos os catálogos baseados nas distâncias angulares.\n",
    "* Adicionando para os objetos membros a magnitude U do VMOS"
   ]
  },
  {
   "cell_type": "markdown",
   "metadata": {},
   "source": [
    "# 1 - Adicionando catálogos"
   ]
  },
  {
   "cell_type": "markdown",
   "metadata": {},
   "source": [
    "## 1.1 - Adicionando catálogo Blakeslee"
   ]
  },
  {
   "cell_type": "markdown",
   "metadata": {},
   "source": [
    "* Artigo original: Blakeslee et al., 2006\n",
    "\n",
    "Descrição:\n",
    "\n",
    "| Nome | Parâmetro | Unidade|\n",
    "| :---         |     :---      |          :--- |          :--- |\n",
    "| ID_B              | Identificação     | --    |\n",
    "| RA_B              | Ascensão reta     | graus (J2000)    |\n",
    "| DEC_B             | Declinação        | graus (J2000)     |\n",
    "| F775W_B           | magnitude i SEX   | mag    |\n",
    "| F775W_GALFIT_T    | magnitude i GALFIT| mag    |\n",
    "| Re_T              | Raio efetivo      | arcsec    |\n",
    "| nSer_T            | índice de Sérsic  | --    |\n",
    "| Morph_T           | Tipo T (1)            | --    |\n",
    "| ba_T              | razão de eixos    | --    |\n",
    "| B_T               | Bumpiness         | --    |\n",
    "| Sigma_T           | Densidade superficial de massa (2)| --    |\n",
    "| r_i_T             | r - i     | mag    |\n",
    "| e_r_i_T           | erro r - i     | mag    |\n",
    "| i_z_T             | i - z     | mag    |\n",
    "| e_i_z_T           | erro i - z     | mag    |\n",
    "| r_z_T             | r - z     | mag    |\n",
    "| e_r_z_T           | erro r - z     | mag    |\n",
    "\n",
    "(1) Postman+2005"
   ]
  },
  {
   "cell_type": "code",
   "execution_count": null,
   "metadata": {
    "collapsed": true
   },
   "outputs": [],
   "source": [
    "cat_blakeslee = np.loadtxt('../Catalogos/catalog_blakeslee.txt')\n",
    "cat_blakeslee = pd.DataFrame(cat_blakeslee)\n",
    "\n",
    "\n",
    "cat_blakeslee.columns = ['ID_B','RA_B','DEC_B','F775W_B','F775W_GALFIT_B','Re_B','nSer_B','Morph_B','ba_B','B_B','sigma_B','r_i_B','e_r_i_B','i_z_B','e_i_z_B','r_z_B','e_r_z_B']\n",
    "cat_blakeslee"
   ]
  }
 ],
 "metadata": {
  "kernelspec": {
   "display_name": "Python 2",
   "language": "python",
   "name": "python2"
  },
  "language_info": {
   "codemirror_mode": {
    "name": "ipython",
    "version": 2
   },
   "file_extension": ".py",
   "mimetype": "text/x-python",
   "name": "python",
   "nbconvert_exporter": "python",
   "pygments_lexer": "ipython2",
   "version": "2.7.13"
  }
 },
 "nbformat": 4,
 "nbformat_minor": 2
}
