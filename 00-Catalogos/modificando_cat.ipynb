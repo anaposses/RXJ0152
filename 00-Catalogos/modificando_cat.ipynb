{
 "cells": [
  {
   "cell_type": "code",
   "execution_count": 1,
   "metadata": {
    "collapsed": true
   },
   "outputs": [],
   "source": [
    "%matplotlib inline                           \n",
    "%config InlineBackend.figure_format='retina'       # Melhora a resolucao do plot\n",
    "from IPython.core.display import display, HTML\n",
    "import matplotlib.pylab as plt                     # Permite fazer plots utilizando o pacote matplotlib\n",
    "plt.rcParams['figure.figsize'] = (9.0, 9.0)      # Determina o tamanho do plot dentro do ipython notebook\n",
    "from astropy.io import fits\n",
    "import numpy as np \n",
    "import pandas as pd\n",
    "import math"
   ]
  },
  {
   "cell_type": "markdown",
   "metadata": {},
   "source": [
    "**Motivação**: Esse código foi criado apenas após meses de trabalho no projeto pois percebi a necessidade de preservar em apenas uma pasta todas as modificações realizadas no catálogo. Até então, eu havia adicionado, corrigido e manipulado os parâmetros em pastas diferentes. Isso gera uma confusão na hora de saber qual é o catálogo mais atual e uma mudança frequente de nomes para cada nova versão. Portanto compilei todas as modificações em um único notebook, gerando ao final de cada rodada apenas um arquivo de texto com nome único."
   ]
  },
  {
   "cell_type": "markdown",
   "metadata": {},
   "source": [
    "**Modificações realizadas anteriormente:** Listo brevemente as modificações realizadas até então. \n",
    "\n",
    "* Adição dos quatro catálogos disponíveis: Blakeslee, Demarco, Patel e Tanaka.\n",
    "* Realizado uma união de todos os catálogos baseados nas distâncias angulares.\n",
    "* Adicionando para os objetos membros a magnitude U do VMOS"
   ]
  },
  {
   "cell_type": "markdown",
   "metadata": {},
   "source": [
    "# 1 - Adicionando catálogos"
   ]
  },
  {
   "cell_type": "markdown",
   "metadata": {},
   "source": [
    "## 1.1 - Adicionando catálogo Blakeslee"
   ]
  },
  {
   "cell_type": "markdown",
   "metadata": {},
   "source": [
    "* Artigo original: Blakeslee et al., 2006\n",
    "\n",
    "Descrição:\n",
    "\n",
    "| Nome | Parâmetro | Unidade|\n",
    "| :---         |     :---      |          :--- |          :--- |\n",
    "| ID_B              | Identificação     | --    |\n",
    "| RA_B              | Ascensão reta     | graus (J2000)    |\n",
    "| DEC_B             | Declinação        | graus (J2000)     |\n",
    "| F775W_B           | magnitude i SEX   | mag    |\n",
    "| F775W_GALFIT_T    | magnitude i GALFIT| mag    |\n",
    "| Re_T              | Raio efetivo      | arcsec    |\n",
    "| nSer_T            | índice de Sérsic  | --    |\n",
    "| Morph_T           | Tipo T (1)            | --    |\n",
    "| ba_T              | razão de eixos    | --    |\n",
    "| B_T               | Bumpiness         | --    |\n",
    "| Sigma_T           | Densidade superficial de massa (2)| --    |\n",
    "| r_i_T             | r - i     | mag    |\n",
    "| e_r_i_T           | erro r - i     | mag    |\n",
    "| i_z_T             | i - z     | mag    |\n",
    "| e_i_z_T           | erro i - z     | mag    |\n",
    "| r_z_T             | r - z     | mag    |\n",
    "| e_r_z_T           | erro r - z     | mag    |\n",
    "\n",
    "(1) Postman+2005"
   ]
  },
  {
   "cell_type": "code",
   "execution_count": 4,
   "metadata": {},
   "outputs": [],
   "source": [
    "#Adicionando catalogos\n",
    "cat_blakeslee = np.loadtxt('../00-Catalogos/catalog_blakeslee.txt')\n",
    "cat_blakeslee = pd.DataFrame(cat_blakeslee)\n",
    "\n",
    "#Adicionando o nome de cada coluna\n",
    "cat_blakeslee.columns = ['ID_B','RA_B','DEC_B','F775W_B','F775W_GALFIT_B','Re_B','nSer_B','Morph_B','ba_B','B_B','sigma_B','r_i_B','e_r_i_B','i_z_B','e_i_z_B','r_z_B','e_r_z_B']\n",
    "#cat_blakeslee"
   ]
  },
  {
   "cell_type": "markdown",
   "metadata": {},
   "source": [
    "## 1.2 -  Adicionando catalogo Tanaka "
   ]
  },
  {
   "cell_type": "markdown",
   "metadata": {},
   "source": [
    "* Artigo original: Tanaka et al., 2006 (https://arxiv.org/pdf/astro-ph/0511296.pdf)\n",
    "\n",
    "Descrição:\n",
    "\n",
    "\n",
    "| Nome | Parâmetro | Unidade|\n",
    "| :---         |     :---      |          :--- |      \n",
    "| nm_col_T     | Numero coluna Tanaka            | --    |\n",
    "| ID_T         | Identificação                   |  --   |\n",
    "| RA_T         | Ascensão Reta                   | graus (J2000) |\n",
    "| DEC_T        | Declinação                      | graus (J2000) |\n",
    "| zmag_T       | z                               | mag    |\n",
    "| Rci_T        | R - i                           | mag    |\n",
    "| i_z_T        | i - z                           | mag    |\n",
    "| zph_T        | Redshift fotometrico            | --     |\n",
    "| zsp_T        | Redshift Espectroscópico        | --     |\n",
    "| Zspmin_T     | Redshift Espectroscópico mínimo | --     |\n",
    "| zpsmax_T     | Redshift Espectroscópico máximo | --     |\n",
    "| zconf_T      | Confiabilidade do redshift      | --     |\n"
   ]
  },
  {
   "cell_type": "code",
   "execution_count": 6,
   "metadata": {},
   "outputs": [],
   "source": [
    "#Adicionando catálogo Tanaka:\n",
    "\n",
    "cat_tanaka = np.loadtxt('../00-Catalogos/catalog_tanaka.txt', dtype = 'string')\n",
    "cat_tanaka = pd.DataFrame(cat_tanaka)\n",
    "\n",
    "#Transformando as coordenadas de horas -> graus\n",
    "a = ((((pd.to_numeric(cat_tanaka[4])/60) + pd.to_numeric(cat_tanaka[3]))/60) + pd.to_numeric(cat_tanaka[2]))*15\n",
    "b = ((((pd.to_numeric(cat_tanaka[7])/60) + pd.to_numeric(cat_tanaka[6]))/60) + abs(pd.to_numeric(cat_tanaka[5])))*(-1)\n",
    "cat_tanaka.insert(2,'2',a)\n",
    "del cat_tanaka[2]\n",
    "del cat_tanaka[3]\n",
    "del cat_tanaka[4]\n",
    "\n",
    "cat_tanaka.insert(3,'3',b)\n",
    "del cat_tanaka[5]\n",
    "del cat_tanaka[6]\n",
    "del cat_tanaka[7]\n",
    "#print cat_tanaka\n",
    "cat_tanaka.columns = ['nm_col_T','ID_T','RA_T','DEC_T','zmag_T','VRc_T','Rci_T','i_z_T','zph_T','zsp_T','Zspmin_T','zpsmax_T','zconf_T']\n",
    "\n",
    "#cat_tanaka"
   ]
  },
  {
   "cell_type": "markdown",
   "metadata": {},
   "source": [
    "## 1.3 - Adicionando catálogo Demarco"
   ]
  },
  {
   "cell_type": "markdown",
   "metadata": {},
   "source": [
    "* Artigo original: Demarco et al., 2010\n",
    "\n",
    "\n",
    "\n",
    "| Nome | Parâmetro | Unidade|\n",
    "| :---         |     :---      |          :--- |\n",
    "|ID_D|  Identificão     | --    |\n",
    "|RA_D|  Ascensão Reta     |  graus   |\n",
    "|DEC_D|  Declinação     |  graus   |\n",
    "|Z_D|  Redshift     | --    |\n",
    "|EL_D| Flag de linhas de emissão      |  --   |\n",
    "|TYPE_D|  Tipo T     |  --   |\n",
    "|AUTO_R_D|  Magnitude R abertura mag_auto     |  mag   |\n",
    "|ERR_AUTO_R_D|   Erro R MAG_AUTO   |  mag   |\n",
    "|AP_R_D|   Magnitude R abertura 2arc    | mag    |\n",
    "|ERR_AP_R_D|   Erro R 2arc     | mag    |\n",
    "|AUTO_I_D|  Magnitude I abertura mag_auto     |  mag   |\n",
    "|ERR_AUTO_I_D|   Erro I MAG_AUTO     | mag    |\n",
    "|AP_I_D|   Magnitude I abertura 2arc    |  mag   |\n",
    "|ERR_AP_I_D|   Erro I 2arc    |  mag   |\n",
    "|AUTO_Z_D|  Magnitude Z abertura mag_auto     | mag    |\n",
    "|ERR_AUTO_Z_D|   Erro Z MAG_AUTO     |  mag   |\n",
    "|AP_Z_D|  Magnitude Z abertura 2arc     |  mag   |\n",
    "|ERR_AP_Z_D|   Erro Z 2arc    | mag    |\n",
    "|AUTO_J_D|  Magnitude J abertura mag_auto     | mag    |\n",
    "|ERR_AUTO_J_D|   Erro J MAG_AUTO     | mag    |\n",
    "|AP_J_D|  Magnitude J abertura 2arc     | mag    |\n",
    "|ERR_AP_J_D|   Erro J 2arc    | mag    |\n",
    "|AUTO_KS_D|  Magnitude Ks abertura mag_auto     |  mag   |\n",
    "|ERR_AUTO_KS_D| Erro Ks MAG_AUTO       | mag    |\n",
    "|AP_KS_D|  Magnitude Ks abertura 2arc     | mag    |\n",
    "|ERR_AP_KS_D|   Erro Ks 2arc    |mag     |\n",
    "|STEL_MASS_D|  Massa estelar     |     |\n",
    "       "
   ]
  },
  {
   "cell_type": "code",
   "execution_count": 9,
   "metadata": {},
   "outputs": [],
   "source": [
    "cat_demarco = np.loadtxt('../00-Catalogos/catalog_demarco.txt', dtype = 'string')\n",
    "cat_demarco = pd.DataFrame(cat_demarco)\n",
    "\n",
    "cat_demarco.columns =['ID_D','RA_D','DEC_D','Z_D','EL_D', 'TYPE_D' ,'AUTO_R_D' ,'ERR_AUTO_R_D', 'AP_R_D'   ,'ERR_AP_R_D' ,'AUTO_I_D' ,'ERR_AUTO_I_D' ,'AP_I_D',   'ERR_AP_I_D', 'AUTO_Z_D', 'ERR_AUTO_Z_D', 'AP_Z_D',   'ERR_AP_Z_D', 'AUTO_J_D', 'ERR_AUTO_J_D', 'AP_J_D',   'ERR_AP_J_D', 'AUTO_KS_D', 'ERR_AUTO_KS_D', 'AP_KS_D',  'ERR_AP_KS_D', 'STEL_MASS_D']\n"
   ]
  },
  {
   "cell_type": "markdown",
   "metadata": {},
   "source": [
    "## 1.4 - Adicionando Patel"
   ]
  },
  {
   "cell_type": "markdown",
   "metadata": {},
   "source": [
    "*  Artigo: Patel+2009 (http://iopscience.iop.org/article/10.1088/0004-637X/694/2/1349/pdf)\n",
    "\n",
    "Descrição:\n",
    "\n",
    "| Nome | Parâmetro | Unidade|\n",
    "| :---         |     :---      |          :--- |     \n",
    "| ID |  Identificação |  --   |      \n",
    "| RA  |  Ascensão Reta  |  graus   |             \n",
    "| DEC  | Declinação   | graus    |                 \n",
    "| zmag_auto| Magnitude z mag_auto  |  mag   |           \n",
    "| zmag_col  | Magnitude z ap 2arc   |  mag   |         \n",
    "| Ks_col| Magnitude Ks ap 2arc   |  mag   |             \n",
    "| z50    |    |  --   |               \n",
    "| z025|    |  --   |      \n",
    "|z975_P|    |  --   |      \n",
    "|zspec_P|    | --    |      \n",
    "|lmass_P|    |     |      \n",
    "|density_P|   |     |      "
   ]
  },
  {
   "cell_type": "code",
   "execution_count": 11,
   "metadata": {},
   "outputs": [],
   "source": [
    "cat_patel = np.loadtxt('../Catalogos/catalog_patel.txt', dtype = 'string')\n",
    "cat_patel = pd.DataFrame(cat_patel)\n",
    "cat_patel.columns = ['ID_P','RA_P','DEC_P','zmag_auto_P','zmag_col_P','Ks_col_P','z50_P','z025_z_P','z975_P','zspec_P','lmass_P','density_P']\n"
   ]
  }
 ],
 "metadata": {
  "kernelspec": {
   "display_name": "Python 2",
   "language": "python",
   "name": "python2"
  },
  "language_info": {
   "codemirror_mode": {
    "name": "ipython",
    "version": 2
   },
   "file_extension": ".py",
   "mimetype": "text/x-python",
   "name": "python",
   "nbconvert_exporter": "python",
   "pygments_lexer": "ipython2",
   "version": "2.7.13"
  }
 },
 "nbformat": 4,
 "nbformat_minor": 2
}
